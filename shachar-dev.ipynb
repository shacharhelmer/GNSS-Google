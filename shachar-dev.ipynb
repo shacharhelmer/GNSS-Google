{
 "cells": [
  {
   "cell_type": "code",
   "execution_count": 61,
   "id": "gentle-punishment",
   "metadata": {},
   "outputs": [],
   "source": [
    "import os\n",
    "import numpy as np # linear algebra\n",
    "import pandas as pd # data processing, CSV file I/O (e.g. pd.read_csv)\n",
    "import matplotlib.pyplot as plt\n",
    "from mpl_toolkits.mplot3d import Axes3D\n",
    "import gmplot\n",
    "from IPython.display import IFrame\n",
    "import tensorflow as tf\n",
    "import re"
   ]
  },
  {
   "cell_type": "code",
   "execution_count": 149,
   "id": "environmental-inquiry",
   "metadata": {},
   "outputs": [],
   "source": [
    "bsln_trn_path = 'baseline_locations_train.csv'\n",
    "bsln_trn = pd.read_csv(bsln_trn_path)"
   ]
  },
  {
   "cell_type": "code",
   "execution_count": 150,
   "id": "registered-first",
   "metadata": {},
   "outputs": [
    {
     "data": {
      "text/plain": [
       "Index(['collectionName', 'phoneName', 'millisSinceGpsEpoch', 'latDeg',\n",
       "       'lngDeg', 'heightAboveWgs84EllipsoidM', 'phone'],\n",
       "      dtype='object')"
      ]
     },
     "execution_count": 150,
     "metadata": {},
     "output_type": "execute_result"
    }
   ],
   "source": [
    "bsln_trn.columns"
   ]
  },
  {
   "cell_type": "markdown",
   "id": "confident-reducing",
   "metadata": {},
   "source": [
    "<h5>Baseline data has no na values</h5>"
   ]
  },
  {
   "cell_type": "code",
   "execution_count": 190,
   "id": "collectible-number",
   "metadata": {
    "collapsed": true,
    "jupyter": {
     "outputs_hidden": true
    },
    "tags": []
   },
   "outputs": [
    {
     "name": "stdout",
     "output_type": "stream",
     "text": [
      "collectionName                0\n",
      "phoneName                     0\n",
      "millisSinceGpsEpoch           0\n",
      "latDeg                        0\n",
      "lngDeg                        0\n",
      "heightAboveWgs84EllipsoidM    0\n",
      "phone                         0\n",
      "dtype: int64\n",
      "collectionName                0\n",
      "phoneName                     0\n",
      "millisSinceGpsEpoch           0\n",
      "latDeg                        0\n",
      "lngDeg                        0\n",
      "heightAboveWgs84EllipsoidM    0\n",
      "phone                         0\n",
      "dtype: int64\n"
     ]
    }
   ],
   "source": [
    "print(bsln_trn.isna().sum())\n",
    "print(bsln_trn.isnull().sum())"
   ]
  },
  {
   "cell_type": "code",
   "execution_count": 152,
   "id": "consistent-dairy",
   "metadata": {
    "collapsed": true,
    "jupyter": {
     "outputs_hidden": true
    },
    "tags": []
   },
   "outputs": [
    {
     "data": {
      "text/plain": [
       "collectionName       phoneName        millisSinceGpsEpoch  latDeg     lngDeg       heightAboveWgs84EllipsoidM  phone                              \n",
       "2021-04-29-US-SJC-2  SamsungS20Ultra  1303760319000        37.334485  -121.899570  -7.64                       2021-04-29-US-SJC-2_SamsungS20Ultra    1\n",
       "2020-07-08-US-MTV-1  Pixel4XLModded   1278283189448        37.451172  -122.125234  -34.33                      2020-07-08-US-MTV-1_Pixel4XLModded     1\n",
       "                                      1278283095448        37.431540  -122.104583  -27.91                      2020-07-08-US-MTV-1_Pixel4XLModded     1\n",
       "                                      1278283096448        37.431724  -122.104786  -29.85                      2020-07-08-US-MTV-1_Pixel4XLModded     1\n",
       "                                      1278283097448        37.431922  -122.104998  -28.60                      2020-07-08-US-MTV-1_Pixel4XLModded     1\n",
       "                                                                                                                                                     ..\n",
       "2021-01-05-US-SVL-1  Pixel4XL         1293916422440        37.379627  -122.071662   3.71                       2021-01-05-US-SVL-1_Pixel4XL           1\n",
       "                                      1293916423440        37.379620  -122.071641   5.10                       2021-01-05-US-SVL-1_Pixel4XL           1\n",
       "                                      1293916424440        37.379612  -122.071637   5.89                       2021-01-05-US-SVL-1_Pixel4XL           1\n",
       "                                      1293916425440        37.379616  -122.071642   5.43                       2021-01-05-US-SVL-1_Pixel4XL           1\n",
       "2020-05-14-US-MTV-1  Pixel4           1273529463442        37.423575  -122.094091  -34.06                      2020-05-14-US-MTV-1_Pixel4             1\n",
       "Length: 131342, dtype: int64"
      ]
     },
     "execution_count": 152,
     "metadata": {},
     "output_type": "execute_result"
    }
   ],
   "source": [
    "bsln_trn.value_counts()"
   ]
  },
  {
   "cell_type": "code",
   "execution_count": null,
   "id": "informed-halloween",
   "metadata": {},
   "outputs": [],
   "source": []
  },
  {
   "cell_type": "code",
   "execution_count": 156,
   "id": "vertical-alcohol",
   "metadata": {
    "collapsed": true,
    "jupyter": {
     "outputs_hidden": true
    },
    "tags": []
   },
   "outputs": [
    {
     "data": {
      "text/plain": [
       "collectionName       phoneName  latDeg     lngDeg       heightAboveWgs84EllipsoidM\n",
       "2020-05-29-US-MTV-2  Pixel4XL   37.416390  -122.078071  -26.83                        65\n",
       "                     Pixel4     37.416394  -122.078060  -26.94                        64\n",
       "2020-06-05-US-MTV-2  Pixel4XL   37.624707  -122.428272   27.13                         5\n",
       "2020-09-04-US-SF-2   Pixel4XL   37.624732  -122.428261   24.54                         5\n",
       "2020-06-04-US-MTV-1  Pixel4XL   37.633220  -122.419402  -21.45                         3\n",
       "                                                                                      ..\n",
       "2021-01-05-US-SVL-1  Pixel4XL   37.352227  -122.061199   27.60                         1\n",
       "                                37.352231  -122.061220   38.56                         1\n",
       "                                           -122.060171   27.39                         1\n",
       "                                37.352236  -122.061217   33.93                         1\n",
       "2020-05-14-US-MTV-1  Pixel4     37.422286  -122.093635  -29.86                         1\n",
       "Length: 131165, dtype: int64"
      ]
     },
     "execution_count": 156,
     "metadata": {},
     "output_type": "execute_result"
    }
   ],
   "source": [
    "bsln_trn_indexed = bsln_trn.set_index(['phone', 'millisSinceGpsEpoch'])\n",
    "bsln_trn_indexed.value_counts()"
   ]
  }
 ],
 "metadata": {
  "kernelspec": {
   "display_name": "Python 3",
   "language": "python",
   "name": "python3"
  },
  "language_info": {
   "codemirror_mode": {
    "name": "ipython",
    "version": 3
   },
   "file_extension": ".py",
   "mimetype": "text/x-python",
   "name": "python",
   "nbconvert_exporter": "python",
   "pygments_lexer": "ipython3",
   "version": "3.7.0"
  }
 },
 "nbformat": 4,
 "nbformat_minor": 5
}
